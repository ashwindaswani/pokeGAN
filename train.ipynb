{
 "metadata": {
  "language_info": {
   "codemirror_mode": {
    "name": "ipython",
    "version": 3
   },
   "file_extension": ".py",
   "mimetype": "text/x-python",
   "name": "python",
   "nbconvert_exporter": "python",
   "pygments_lexer": "ipython3",
   "version": "3.8.5-final"
  },
  "orig_nbformat": 2,
  "kernelspec": {
   "name": "python38564bit8a7e00cc0ecb44c384611e7cebb4c8e8",
   "display_name": "Python 3.8.5 64-bit",
   "language": "python"
  }
 },
 "nbformat": 4,
 "nbformat_minor": 2,
 "cells": [
  {
   "cell_type": "code",
   "execution_count": 1,
   "metadata": {},
   "outputs": [],
   "source": [
    "import cv2\n",
    "from PIL import Image               # to load images\n",
    "from IPython.display import display # to display images\n",
    "import keras\n",
    "from keras import layers\n",
    "import numpy as np"
   ]
  },
  {
   "cell_type": "code",
   "execution_count": 2,
   "metadata": {},
   "outputs": [
    {
     "output_type": "display_data",
     "data": {
      "text/plain": "<PIL.Image.Image image mode=RGB size=64x64 at 0x7FCCFCADBCD0>",
      "image/png": "[encoded data removed]"
     },
     "metadata": {}
    }
   ],
   "source": [
    "\n",
    "abra = Image.open('dataset/Abra/2eb2a528f9a247358452b3c740df69a0.jpg')\n",
    "abra = abra.resize((64,64))\n",
    "display(abra)"
   ]
  },
  {
   "cell_type": "code",
   "execution_count": 3,
   "metadata": {},
   "outputs": [],
   "source": [
    "latent_dim=64\n",
    "height=64\n",
    "width=64\n",
    "channels=3"
   ]
  },
  {
   "cell_type": "code",
   "execution_count": 4,
   "metadata": {},
   "outputs": [
    {
     "output_type": "stream",
     "name": "stdout",
     "text": [
      "Model: \"model\"\n_________________________________________________________________\nLayer (type)                 Output Shape              Param #   \n=================================================================\ninput_1 (InputLayer)         [(None, 64)]              0         \n_________________________________________________________________\ndense (Dense)                (None, 131072)            8519680   \n_________________________________________________________________\nleaky_re_lu (LeakyReLU)      (None, 131072)            0         \n_________________________________________________________________\nreshape (Reshape)            (None, 32, 32, 128)       0         \n_________________________________________________________________\nconv2d (Conv2D)              (None, 32, 32, 256)       819456    \n_________________________________________________________________\nleaky_re_lu_1 (LeakyReLU)    (None, 32, 32, 256)       0         \n_________________________________________________________________\nconv2d_transpose (Conv2DTran (None, 64, 64, 256)       1048832   \n_________________________________________________________________\nleaky_re_lu_2 (LeakyReLU)    (None, 64, 64, 256)       0         \n_________________________________________________________________\nconv2d_1 (Conv2D)            (None, 64, 64, 256)       1638656   \n_________________________________________________________________\nleaky_re_lu_3 (LeakyReLU)    (None, 64, 64, 256)       0         \n_________________________________________________________________\nconv2d_2 (Conv2D)            (None, 64, 64, 3)         37635     \n=================================================================\nTotal params: 12,064,259\nTrainable params: 12,064,259\nNon-trainable params: 0\n_________________________________________________________________\n"
     ]
    }
   ],
   "source": [
    "generator_input=keras.Input(shape=(latent_dim,))\n",
    "x = layers.Dense(128*32*32)(generator_input)\n",
    "x = layers.LeakyReLU()(x)\n",
    "x = layers.Reshape((32,32,128))(x)\n",
    "\n",
    "x = layers.Conv2D(256, 5, padding = 'same')(x)\n",
    "x = layers.LeakyReLU()(x)\n",
    "\n",
    "x = layers.Conv2DTranspose(256, 4, strides = 2, padding = 'same')(x)\n",
    "x = layers.LeakyReLU()(x)\n",
    "\n",
    "x = layers.Conv2D(256, 5, padding = 'same')(x)\n",
    "x = layers.LeakyReLU()(x)\n",
    "# x = layers.Conv2D(256, 5, padding = 'same')(x)\n",
    "# x = layers.LeakyReLU()(x)\n",
    "# x = layers.Dropout(0.4)(x)\n",
    "x = layers.Conv2D(channels, 7, activation = 'tanh', padding= 'same')(x)\n",
    "generator = keras.models.Model(generator_input, x)\n",
    "generator.summary()"
   ]
  },
  {
   "cell_type": "code",
   "execution_count": 6,
   "metadata": {},
   "outputs": [
    {
     "output_type": "stream",
     "name": "stdout",
     "text": [
      "Model: \"model_2\"\n_________________________________________________________________\nLayer (type)                 Output Shape              Param #   \n=================================================================\ninput_3 (InputLayer)         [(None, 64, 64, 3)]       0         \n_________________________________________________________________\nconv2d_6 (Conv2D)            (None, 62, 62, 128)       3584      \n_________________________________________________________________\nleaky_re_lu_7 (LeakyReLU)    (None, 62, 62, 128)       0         \n_________________________________________________________________\nconv2d_7 (Conv2D)            (None, 30, 30, 128)       262272    \n_________________________________________________________________\nleaky_re_lu_8 (LeakyReLU)    (None, 30, 30, 128)       0         \n_________________________________________________________________\nconv2d_8 (Conv2D)            (None, 14, 14, 128)       262272    \n_________________________________________________________________\nleaky_re_lu_9 (LeakyReLU)    (None, 14, 14, 128)       0         \n_________________________________________________________________\ndropout_1 (Dropout)          (None, 14, 14, 128)       0         \n_________________________________________________________________\ndense_2 (Dense)              (None, 14, 14, 1)         129       \n=================================================================\nTotal params: 528,257\nTrainable params: 528,257\nNon-trainable params: 0\n_________________________________________________________________\n"
     ]
    }
   ],
   "source": [
    "discriminator_input = keras.Input(shape=(height,width,channels))\n",
    "x = layers.Conv2D(128, 3)(discriminator_input)\n",
    "x = layers.LeakyReLU()(x)\n",
    "x = layers.Conv2D(128, 4, strides = 2)(x)\n",
    "x = layers.LeakyReLU()(x)\n",
    "x = layers.Conv2D(128, 4, strides = 2)(x)\n",
    "# x = layers.LeakyReLU()(x)\n",
    "# x = layers.Conv2D(128, 4, strides = 2)(x)\n",
    "x = layers.LeakyReLU()(x)\n",
    "x = layers.Dropout(0.4)(x)\n",
    "x = layers.Dense(1, activation = 'sigmoid')(x)\n",
    "\n",
    "discrimnator = keras.models.Model(discriminator_input, x)\n",
    "discrimnator.summary()"
   ]
  },
  {
   "cell_type": "code",
   "execution_count": 7,
   "metadata": {},
   "outputs": [],
   "source": [
    "discriminator_optimizer = keras.optimizers.RMSprop(learning_rate= 0.0008, clipvalue= 1, decay = 1e-8)"
   ]
  },
  {
   "cell_type": "code",
   "execution_count": 8,
   "metadata": {},
   "outputs": [],
   "source": [
    "discrimnator.compile(optimizer= discriminator_optimizer, loss='binary_crossentropy')"
   ]
  },
  {
   "cell_type": "code",
   "execution_count": 9,
   "metadata": {},
   "outputs": [],
   "source": [
    "discrimnator.trainable = False\n",
    "gan_input = keras.Input(shape= (latent_dim,))\n",
    "gan_output = discrimnator(generator(gan_input))\n",
    "gan = keras.models.Model(gan_input, gan_output)\n",
    "gan_optimzer = keras.optimizers.RMSprop(learning_rate= 0.0004, clipvalue= 1, decay= 1e-8)\n",
    "gan.compile(optimizer= gan_optimzer, loss = 'binary_crossentropy')"
   ]
  },
  {
   "cell_type": "code",
   "execution_count": 10,
   "metadata": {},
   "outputs": [],
   "source": [
    "import os"
   ]
  },
  {
   "cell_type": "code",
   "execution_count": 52,
   "metadata": {
    "tags": []
   },
   "outputs": [
    {
     "output_type": "stream",
     "name": "stdout",
     "text": [
      "OpenCV(4.5.1) /tmp/pip-req-build-ms668fyv/opencv/modules/imgproc/src/resize.cpp:4051: error: (-215:Assertion failed) !ssize.empty() in function 'resize'\n",
      "\n",
      "OpenCV(4.5.1) /tmp/pip-req-build-ms668fyv/opencv/modules/imgproc/src/resize.cpp:4051: error: (-215:Assertion failed) !ssize.empty() in function 'resize'\n",
      "\n"
     ]
    }
   ],
   "source": [
    "x = []\n",
    "for f in os.listdir('dataset'):\n",
    "    for p in os.listdir('dataset/' + f):\n",
    "        if not p.endswith('svg'):\n",
    "            # a = Image.open('dataset/' + f + '/' + p)\n",
    "            a = cgitv2.imread('dataset/' + f + '/' + p)\n",
    "            try:\n",
    "                a = cv2.resize(a,(64,64))\n",
    "                x.append(a)\n",
    "            except Exception as e:\n",
    "                print(str(f + \"  ==\" + p))"
   ]
  },
  {
   "cell_type": "code",
   "execution_count": 53,
   "metadata": {},
   "outputs": [
    {
     "output_type": "execute_result",
     "data": {
      "text/plain": [
       "10665"
      ]
     },
     "metadata": {},
     "execution_count": 53
    }
   ],
   "source": [
    "  len(x)"
   ]
  },
  {
   "cell_type": "code",
   "execution_count": 47,
   "metadata": {},
   "outputs": [],
   "source": []
  },
  {
   "cell_type": "code",
   "execution_count": 48,
   "metadata": {},
   "outputs": [
    {
     "output_type": "execute_result",
     "data": {
      "text/plain": [
       "'<bound method Image.tobytes of <PIL.Image.Image image mode=RGB size=64x64 at 0x7FCCB13DA460>>'"
      ]
     },
     "metadata": {},
     "execution_count": 48
    }
   ],
   "source": []
  },
  {
   "cell_type": "code",
   "execution_count": null,
   "metadata": {},
   "outputs": [],
   "source": []
  }
 ]
}